{
 "cells": [
  {
   "cell_type": "markdown",
   "metadata": {},
   "source": [
    "## Etapa de: Importação e Limpeza"
   ]
  },
  {
   "cell_type": "markdown",
   "metadata": {},
   "source": [
    "### Importação dos Dados"
   ]
  },
  {
   "cell_type": "code",
   "execution_count": null,
   "metadata": {},
   "outputs": [],
   "source": [
    "import pandas as pd\n",
    "\n",
    "# Importar os dados do CSV\n",
    "df = pd.read_csv('C:\\InstanciasVisualStudio\\BoticarioDados\\BoticarioDesenvolve_Projetos\\SegundoProjetoPratico_AnaliseDeDadosePredicao\\base-alugueis-sp.csv')\n",
    "\n",
    "# Exibir as primeiras linhas do DataFrame\n",
    "print(df.head())"
   ]
  },
  {
   "cell_type": "markdown",
   "metadata": {},
   "source": [
    "### Limpeza de dados:"
   ]
  },
  {
   "cell_type": "code",
   "execution_count": null,
   "metadata": {},
   "outputs": [],
   "source": [
    "df.duplicated()\n",
    "print(df)\n",
    "\n",
    "# Verificar se há valores ausentes\n",
    "print(\"Valores Ausentes:\")\n",
    "print(df.isnull().sum())"
   ]
  },
  {
   "cell_type": "markdown",
   "metadata": {},
   "source": [
    "### Análise Descritiva\n",
    "#### Estatísticas descritivas"
   ]
  },
  {
   "cell_type": "code",
   "execution_count": null,
   "metadata": {},
   "outputs": [],
   "source": [
    "# Estatísticas descritivas gerais\n",
    "print(\"Estatísticas Descritivas:\")\n",
    "print(df.describe())\n",
    "\n",
    "# Distribuição de uma variável\n",
    "import matplotlib.pyplot as plt\n",
    "import seaborn as sns\n",
    "\n",
    "sns.histplot(df['rent'], kde=True)\n",
    "plt.title('Distribuição dos Preços de Aluguel')\n",
    "plt.xlabel('Preço do Aluguel')\n",
    "plt.ylabel('Frequência')\n",
    "plt.show()"
   ]
  },
  {
   "cell_type": "markdown",
   "metadata": {},
   "source": [
    "### Modelagem de Regressão Linear\n",
    "#### Selecionar as variáveis independentes (features) e a variável dependente (target):"
   ]
  },
  {
   "cell_type": "code",
   "execution_count": null,
   "metadata": {},
   "outputs": [],
   "source": [
    "from sklearn.model_selection import train_test_split\n",
    "from sklearn.linear_model import LinearRegression\n",
    "from sklearn.metrics import mean_squared_error, r2_score\n",
    "\n",
    "# Exemplo: supondo que 'area' seja a variável independente e 'preco_aluguel' a variável dependente\n",
    "X = df[['area']]  # Variável independente\n",
    "y = df['preco_aluguel']  # Variável dependente\n",
    "\n",
    "# Dividir os dados em conjuntos de treinamento e teste\n",
    "X_train, X_test, y_train, y_test = train_test_split(X, y, test_size=0.3, random_state=42)"
   ]
  }
 ],
 "metadata": {
  "kernelspec": {
   "display_name": "Python 3",
   "language": "python",
   "name": "python3"
  },
  "language_info": {
   "name": "python",
   "version": "3.12.0"
  }
 },
 "nbformat": 4,
 "nbformat_minor": 2
}
